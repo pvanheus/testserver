{
 "cells": [
  {
   "cell_type": "code",
   "execution_count": 9,
   "metadata": {
    "collapsed": false
   },
   "outputs": [],
   "source": [
    "import sys\n",
    "import yaml\n",
    "import random\n",
    "import requests\n",
    "import functools\n",
    "import os.path\n",
    "\n",
    "try:\n",
    "    data = yaml.load(open('tests.yml'))\n",
    "except IOError as e:\n",
    "    print('Failed to open test definition file \"tests.yml\":', str(e), file=sys.stderr)\n",
    "    data = dict()\n",
    "base_url = data.get('base_url', 'http://localhost:5000/')\n",
    "\n",
    "def login(email):\n",
    "    if email == 'PUT_YOUR_EMAIL_HERE':\n",
    "        print(\"Please replace the text 'PUT_YOUR_EMAIL_HERE' with your email address\")\n",
    "        return None\n",
    "    r = requests.post(base_url + 'getkey', json=dict(email=email))\n",
    "    if r.status_code == 200:\n",
    "        key = r.json().get('key')\n",
    "    else:\n",
    "        print(r.status_code)\n",
    "        return None\n",
    "    print(\"your email is:\", email, \"your key is:\", key)\n",
    "    return key"
   ]
  },
  {
   "cell_type": "code",
   "execution_count": 10,
   "metadata": {
    "collapsed": false
   },
   "outputs": [],
   "source": [
    "def test_answer(func_name, key, *parameters):\n",
    "    correct = False\n",
    "\n",
    "    if key == None:\n",
    "        return correct\n",
    "    if func_name in globals():\n",
    "        try:\n",
    "            func = globals()[func_name]\n",
    "            answer = func(*parameters)\n",
    "            print(func_name, 'answer:', answer, file=sys.stderr)\n",
    "        except:\n",
    "            pass\n",
    "        else:\n",
    "            r = requests.post(base_url + 'test_' + func_name, json=dict(key=key, parameters=parameters, answer=answer))               \n",
    "            if r.status_code == 200:\n",
    "                correct = r.json().get('correct', False)\n",
    "                if not correct:\n",
    "                    print('Wrong answer. Correct answer:', r.json().get('correct_answer', 'unknown'))\n",
    "            else:\n",
    "                print(\"Failed to run test:\", r.json().get('reason'), file=sys.stderr)\n",
    "    return(correct)\n",
    "\n",
    "try:\n",
    "    data = yaml.load(open('tests.yml'))\n",
    "except IOError as e:\n",
    "    print('Failed to open test definition file \"tests.yml\":', str(e), file=sys.stderr)\n",
    "    data = dict()\n",
    "else:\n",
    "    for name in data.get('tests', dict()).keys():\n",
    "        test_function_name = 'test_' + name\n",
    "        globals()[test_function_name] = functools.partial(test_answer, name)"
   ]
  },
  {
   "cell_type": "code",
   "execution_count": 16,
   "metadata": {
    "collapsed": true
   },
   "outputs": [],
   "source": [
    "def get_marks(key):\n",
    "    if key is not None:\n",
    "        r = requests.get(base_url + 'getmark/' + key)\n",
    "        if r.status_code == 200:\n",
    "            total_marks = r.json().get('total', 0)\n",
    "            correct_answers = r.json().get('tests_correct', [])\n",
    "            print(\"total marks:\", total_marks)\n",
    "            if total_marks > 0:\n",
    "                print(\"tests correct:\", correct_answers)"
   ]
  },
  {
   "cell_type": "code",
   "execution_count": 12,
   "metadata": {
    "collapsed": false
   },
   "outputs": [
    {
     "data": {
      "application/javascript": [
       "// YOU HAVE TO RUN THIS CELL MANUALLY, IT ISN'T RUN WHEN YOU DO 'Cell -> Run All'\n",
       "var nb = IPython.notebook;\n",
       "var kernel = IPython.notebook.kernel;\n",
       "var command = \"NOTEBOOK_PATH = '\" + nb.notebook_path + \"'\";\n",
       "kernel.execute(command)"
      ],
      "text/plain": [
       "<IPython.core.display.Javascript object>"
      ]
     },
     "metadata": {},
     "output_type": "display_data"
    }
   ],
   "source": [
    "%%javascript\n",
    "// YOU HAVE TO RUN THIS CELL MANUALLY, IT ISN'T RUN WHEN YOU DO 'Cell -> Run All'\n",
    "var nb = IPython.notebook;\n",
    "var kernel = IPython.notebook.kernel;\n",
    "var command = \"NOTEBOOK_PATH = '\" + nb.notebook_path + \"'\";\n",
    "kernel.execute(command)"
   ]
  },
  {
   "cell_type": "code",
   "execution_count": 21,
   "metadata": {
    "collapsed": true
   },
   "outputs": [],
   "source": [
    "def submit_notebook(key):\n",
    "    if key is not None:\n",
    "        nb_content = open(NOTEBOOK_PATH).read()\n",
    "        r = requests.post(base_url + 'submit_notebook', json=dict(key=key, notebook=nb_content))\n",
    "        if r.status_code == 200:\n",
    "            print(\"notebook submitted successfully\")\n",
    "        else:\n",
    "            print(\"notebook submission failed\")"
   ]
  },
  {
   "cell_type": "markdown",
   "metadata": {},
   "source": [
    "### The test starts here\n",
    "\n",
    "To start the test, replace the text `PUT_YOUR_EMAIL_HERE` in the cell below with your email address and run all the cells in the notebook with Cell -> Run All"
   ]
  },
  {
   "cell_type": "code",
   "execution_count": 19,
   "metadata": {
    "collapsed": false
   },
   "outputs": [
    {
     "name": "stdout",
     "output_type": "stream",
     "text": [
      "Please replace the text 'PUT_YOUR_EMAIL_HERE' with your email address\n"
     ]
    }
   ],
   "source": [
    "# put your email here\n",
    "email = 'PUT_YOUR_EMAIL_HERE'\n",
    "key = login(email)"
   ]
  },
  {
   "cell_type": "markdown",
   "metadata": {},
   "source": [
    "#### Test problems"
   ]
  },
  {
   "cell_type": "markdown",
   "metadata": {},
   "source": [
    "**Problem 1.** Write a function named `product_of_cubes` that takes a single parameter, a number `n`. Calling `product_of_cubes(n)` should return the product of the cubes of the numbers from 1 to n. E.g. `product_of_cubes(3)` should calculate `(1 ** 3) * (2 ** 3) * (3 ** 3)` which is `1 * 8 * 27` which is `216`. **1 mark**"
   ]
  },
  {
   "cell_type": "markdown",
   "metadata": {},
   "source": [
    "**Problem 2.** Write a function `add_decoration(string1, string2)` that takes two string parameters and returns the contents of `string1` with `string2` on either side. E.g. `add_decoration(\"AAA\", \"^\")` should return \"^AAA^\". **1 mark**"
   ]
  },
  {
   "cell_type": "markdown",
   "metadata": {},
   "source": [
    "**Problem 3.** The Python string method `.count()` counts the non-overlapping occurences of a substring in a string. So, for example, the following code:\n",
    "\n",
    "    mystring = 'eat the easter egg'\n",
    "    num = mystring.count('ea')\n",
    "    print(num)\n",
    "\n",
    "prints `2`. Write a function `motif_count(dnastring, motif)` that when given a DNA string (the first parameter) returns the count of how often a motif (the second parameter) is present in this string (not counting overlapping occurences). The DNA string could contain both uppercase and lowercase characters and the function should not let that confuse the count it returns. For example, `motif_count('gcttccatccaacatctcagcatgatgaactt', 'TT')` should return `2`. **1 mark**"
   ]
  },
  {
   "cell_type": "markdown",
   "metadata": {},
   "source": [
    "**Problem 4.** Write a function `complement(dnastring)` that returns the complement of a DNA string. E.g. `complement('GATTACA')` would return `'CTAATGT'`. **1 mark**"
   ]
  },
  {
   "cell_type": "markdown",
   "metadata": {},
   "source": [
    "**Problem 5.** A DNA string e.g. `'ATAGTAGAATTCTAT'` is cut using the restriction enzyme *EcoRI*. This enzyme has the motif G\\*AATTC, where the \\* is the cutting point. Write a function `piece_lengths(base_string)` which, when passed a DNA string base string returns the lengths of both pieces of DNA that the base string would be cut into. E.g. for the string `'ATAGTAGAATTCTAT'` it would return `[7, 8]`. If the enzyme motif is not found the function should return an empty list (`[]`). Assume the DNA strings are all a single case (uppercase or lowercase). **3 marks**"
   ]
  },
  {
   "cell_type": "markdown",
   "metadata": {},
   "source": [
    "**Problem 6**. Write a function `remove_adapter(dnalist, adapter)` that is given two parameters, a list of DNA strings and an adapter. It should search for the adapter at the start of each DNA string and if it is found, remove it from the string. The function should return the list of strings with any adapters removed if they are present. For example, if given the list `[\"GATTACATAAAAAGCTTCCATCCAACATCTCAGCATGATGAAACTT\", \"TCTAGCCTTACAAGTACTAACCGGCTTTTTCCTAGCCGTCCATTAC\"]` as the first parameter and the adapter `GATTACA` as the second parameter, `remove_adapter` should return `['TAAAAAGCTTCCATCCAACATCTCAGCATGATGAAACTT', 'TCTAGCCTTACAAGTACTAACCGGCTTTTTCCTAGCCGTCCATTAC']`. Assume the DNA strings are all the same case. **3 marks**"
   ]
  },
  {
   "cell_type": "markdown",
   "metadata": {},
   "source": [
    "Start your own work in the cell below. You may use as many cells as you wish."
   ]
  },
  {
   "cell_type": "code",
   "execution_count": null,
   "metadata": {
    "collapsed": true
   },
   "outputs": [],
   "source": []
  },
  {
   "cell_type": "markdown",
   "metadata": {},
   "source": [
    "When you have completed your work, evaluate the cell below this one."
   ]
  },
  {
   "cell_type": "code",
   "execution_count": 23,
   "metadata": {
    "collapsed": false
   },
   "outputs": [],
   "source": [
    "if test_complement(key, 'GATTACA'):\n",
    "    print(\"complement test 1 works\")\n",
    "if test_complement(key, 'ATCCTCTTGTGGATTGGGGCCATACTYTGCTTCTTAGCCTACGGCATCCAGGCAGGGACC'):\n",
    "    print(\"complement test 2 works\")\n",
    "if test_add_decoration(key, 'GREETINGS', '^^^'):\n",
    "    print('decoration test 1 works')\n",
    "if test_product_of_cubes(key, 10):\n",
    "    print('product_of_cubes test 1 works')\n",
    "if test_motif_count(key, 'gcttccatccaacatctcagcatgatgaactt', 'TT'):\n",
    "    print('motif_count test 1 works')\n",
    "if test_piece_lengths(key, 'ATAGTAGAATTCTAT'):\n",
    "    print('piece_lengths test 1 works')\n",
    "if test_piece_lengths(key, 'ATAGTAAATTCTAT'):\n",
    "    print('piece_lengths test 2 works')\n",
    "adapter = 'GATTACA'\n",
    "bases  = [\"GATTACATAAAAAGCTTCCATCCAACATCTCAGCATGATGAAACTT\", \"TCTAGCCTTACAAGTACTAACCGGCTTTTTCCTAGCCGTCCATTAC\"]\n",
    "if test_remove_adapter(key, bases, adapter):\n",
    "    print('remove_adapter test 1 works')\n",
    "submit_notebook(key)\n",
    "get_marks(key)"
   ]
  },
  {
   "cell_type": "code",
   "execution_count": null,
   "metadata": {
    "collapsed": true
   },
   "outputs": [],
   "source": []
  }
 ],
 "metadata": {
  "kernelspec": {
   "display_name": "Python [Root]",
   "language": "python",
   "name": "Python [Root]"
  },
  "language_info": {
   "codemirror_mode": {
    "name": "ipython",
    "version": 3
   },
   "file_extension": ".py",
   "mimetype": "text/x-python",
   "name": "python",
   "nbconvert_exporter": "python",
   "pygments_lexer": "ipython3",
   "version": "3.5.2"
  }
 },
 "nbformat": 4,
 "nbformat_minor": 2
}
